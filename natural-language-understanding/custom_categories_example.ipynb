{
 "cells": [
  {
   "cell_type": "markdown",
   "metadata": {},
   "source": [
    "# Categories Customization"
   ]
  },
  {
   "cell_type": "markdown",
   "metadata": {},
   "source": [
    "In this notebook, we will be creating a custom model for Watson Natural Language Understanding (NLU) categories feature using the Train API.\n",
    "\n",
    "We will go through following functionalities:\n",
    "- How to create training data file\n",
    "- How to train a categories model with NLU train API\n",
    "- How to get status of the model\n",
    "- How to use the trained model using NLU Analyze API\n",
    "\n",
    "To start with you will need an NLU instance and an API key."
   ]
  },
  {
   "cell_type": "markdown",
   "metadata": {},
   "source": [
    "\n",
    "## Add your IBM Cloud service credentials here.\n",
    "- If you use IAM service credentials, leave 'username' set to 'apikey'and set 'password' to the value of your IAM API key.\n",
    "- If you use pre-IAM service credentials, set the values to your 'username' and 'password'.\n",
    "\n",
    "Also set 'url' to the URL for your service instance as provided in your service credentials.\n",
    "See the following instructions for getting your own credentials: https://cloud.ibm.com/docs/watson?topic=watson-iam\n"
   ]
  },
  {
   "cell_type": "code",
   "execution_count": 8,
   "metadata": {},
   "outputs": [],
   "source": [
    "username = 'apikey'\n",
    "password = 'YOUR_IAM_APIKEY'\n",
    "url = 'NLU_URI'"
   ]
  },
  {
   "cell_type": "markdown",
   "metadata": {},
   "source": [
    "## Create Training Data File\n",
    "\n",
    "Categories training data requires labels and key phrases. Labels corresponds to the name of the classes. These labels can have hierarchy and are provided as a list of labels, where the order in this list represents the hierarchy. \n",
    "\n",
    "Each label can be provided with one or more \"key phrases\". These key phrases are used to train categories models. The key phrases should be unique per label and should represent the label. The key phrases can be more phrases containing more than 1 word, for example \"action movies\". "
   ]
  },
  {
   "cell_type": "code",
   "execution_count": 9,
   "metadata": {},
   "outputs": [],
   "source": [
    "training_data = [\n",
    "    {\n",
    "        \"labels\": [\"Laptops\"],\n",
    "        \"key_phrases\": [\"laptops\"]\n",
    "    },\n",
    "    {\n",
    "        \"labels\": [\"Cell Phones\"],\n",
    "        \"key_phrases\": [\"mobile phones\", \"android smart phones\", \"apple smart phones\"]\n",
    "    },\n",
    "    {\n",
    "        \"labels\": [\"Video Games\"],\n",
    "        \"key_phrases\": [\"video games\"]\n",
    "    },\n",
    "    {\n",
    "        \"labels\": [\"Appliances\"],\n",
    "        \"key_phrases\": [\"home appliance\", \"refrigerator\", \"laundry machine\"]\n",
    "    },\n",
    "    {\n",
    "        \"labels\": [\"Cameras\"],\n",
    "        \"key_phrases\": [\"cameras\"]\n",
    "    },\n",
    "    {\n",
    "        \"labels\": [\"Cameras\", \"DSLR Cameras\"],\n",
    "        \"key_phrases\": [\"Digital\", \"single-lens\", \"reflex camera\"]\n",
    "    },\n",
    "    {\n",
    "        \"labels\": [\"Cameras\", \"DSLR Cameras\", \"Lenses\"],\n",
    "        \"key_phrases\": [\"DSLR lens\", \"lenses\"]\n",
    "    },\n",
    "    {\n",
    "        \"labels\": [\"Cameras\", \"Mirrorless Cameras\"],\n",
    "        \"key_phrases\": [\"mirrorless\", \"interchangeable-lens\", \"camera\"]\n",
    "    }\n",
    "    \n",
    "]\n",
    "\n",
    "# Save Training data in a file\n",
    "import json\n",
    "\n",
    "training_data_filename = 'training_data.json'\n",
    "\n",
    "with open(training_data_filename, 'w', encoding='utf-8') as f:\n",
    "    json.dump(training_data, f)\n"
   ]
  },
  {
   "cell_type": "markdown",
   "metadata": {},
   "source": [
    "## Train Categories model with NLU"
   ]
  },
  {
   "cell_type": "code",
   "execution_count": 12,
   "metadata": {},
   "outputs": [
    {
     "name": "stdout",
     "output_type": "stream",
     "text": [
      "\n",
      "Creating custom model...\n",
      "Model creation returned:  201\n",
      "\n",
      "Custom model training started...\n",
      "Custom Model ID:  2ba30e90-b858-4b9d-b273-7b8d6e536416\n"
     ]
    }
   ],
   "source": [
    "import json\n",
    "import ntpath\n",
    "import requests\n",
    "import sys\n",
    "import time\n",
    "\n",
    "from requests.packages.urllib3.exceptions import InsecureRequestWarning\n",
    "\n",
    "requests.packages.urllib3.disable_warnings(InsecureRequestWarning)\n",
    "\n",
    "\n",
    "######### Create parameters required for making a call to NLU ######### \n",
    "feature_to_train = 'categories'\n",
    "\n",
    "headers = {'Content-Type' : 'multipart/form-data'}\n",
    "\n",
    "data = {\n",
    "    'name':'Categories Custom model #1',\n",
    "    'language':'en',\n",
    "    'version':'1.0.1'\n",
    "}\n",
    "\n",
    "params = {\n",
    "    'version': '2021-02-15'\n",
    "}\n",
    "\n",
    "uri = url + '/v1/models/{}'.format(feature_to_train)\n",
    "\n",
    "\n",
    "print('\\nCreating custom model...')\n",
    "\n",
    "training_data_filename = 'training_data.json'\n",
    "\n",
    "######### Make a call to NLU to train the model ######### \n",
    "with open(training_data_filename, 'rb') as f:\n",
    "    response = requests.post(uri,\n",
    "                         params=params,\n",
    "                         data=data,\n",
    "                         files={'training_data': (ntpath.basename(training_data_filename), f, 'application/json')},\n",
    "                         auth=(username, password),\n",
    "                         verify=False,\n",
    "                        )\n",
    "\n",
    "######### Parse response from NLU ######### \n",
    "    \n",
    "print('Model creation returned: ', response.status_code)\n",
    "\n",
    "if response.status_code != 201:\n",
    "    print('Failed to create model')\n",
    "    print(response.text)\n",
    "else:\n",
    "    print('\\nCustom model training started...')\n",
    "    response_json = response.json()\n",
    "    model_id = response_json['model_id']\n",
    "    print('Custom Model ID: ', model_id)"
   ]
  },
  {
   "cell_type": "markdown",
   "metadata": {},
   "source": [
    "## Retrieve custom categories model by ID"
   ]
  },
  {
   "cell_type": "code",
   "execution_count": 16,
   "metadata": {},
   "outputs": [
    {
     "name": "stdout",
     "output_type": "stream",
     "text": [
      "Get model returned:  200\n",
      "Response from NLU:\n",
      " {\n",
      "    \"created\": \"2021-02-12T09:58:05Z\",\n",
      "    \"description\": null,\n",
      "    \"features\": [\n",
      "        \"categories\"\n",
      "    ],\n",
      "    \"language\": \"en\",\n",
      "    \"last_deployed\": \"2021-02-12T10:01:07Z\",\n",
      "    \"last_trained\": \"2021-02-12T09:58:05Z\",\n",
      "    \"model_id\": \"2ba30e90-b858-4b9d-b273-7b8d6e536416\",\n",
      "    \"model_version\": \"1.0.1\",\n",
      "    \"name\": \"Categories Custom model #1\",\n",
      "    \"status\": \"available\",\n",
      "    \"user_metadata\": null,\n",
      "    \"version\": \"1.0.1\",\n",
      "    \"version_description\": null,\n",
      "    \"workspace_id\": null\n",
      "}\n"
     ]
    }
   ],
   "source": [
    "import requests\n",
    "\n",
    "params = {\n",
    "    'version': '2021-02-15'\n",
    "}\n",
    "\n",
    "uri = url + '/v1/models/categories/' + model_id\n",
    "\n",
    "######### Make a call to NLU ######### \n",
    "\n",
    "response = requests.get(uri, auth=(username, password), params=params, verify=False, headers=headers)\n",
    "\n",
    "######### Parse response from NLU ######### \n",
    "\n",
    "print('Get model returned: ', response.status_code)\n",
    "\n",
    "response_json = response.json()\n",
    "print(\"Response from NLU:\\n\", json.dumps(response_json, indent=4, sort_keys=True))"
   ]
  },
  {
   "cell_type": "markdown",
   "metadata": {},
   "source": [
    "## Use the model using NLU Analyze API\n",
    "\n",
    "Once the model is trained, the status from the get request above will turn to `available`. Once the model is `available`, you can make the analyze request using the `model_id`"
   ]
  },
  {
   "cell_type": "code",
   "execution_count": 37,
   "metadata": {},
   "outputs": [
    {
     "name": "stdout",
     "output_type": "stream",
     "text": [
      "Successfully analyzed request. Response from NLU:\n",
      "\n",
      "{\n",
      "    \"categories\": [\n",
      "        {\n",
      "            \"label\": \"/Cameras/DSLR Cameras/Lenses\",\n",
      "            \"score\": 0.999968\n",
      "        },\n",
      "        {\n",
      "            \"label\": \"/Cameras/Mirrorless Cameras\",\n",
      "            \"score\": 0.994649\n",
      "        },\n",
      "        {\n",
      "            \"label\": \"/Cell Phones\",\n",
      "            \"score\": 0.001869\n",
      "        }\n",
      "    ],\n",
      "    \"language\": \"en\",\n",
      "    \"usage\": {\n",
      "        \"features\": 0,\n",
      "        \"text_characters\": 55,\n",
      "        \"text_units\": 1\n",
      "    }\n",
      "}\n"
     ]
    }
   ],
   "source": [
    "######### Create request #########\n",
    "\n",
    "analyze_request_data = {\n",
    "        \"text\":\"I use Nikon NIKKOR 10-20mm lens for landscape pictures.\",\n",
    "        \"language\": \"en\",\n",
    "        \"features\": {\n",
    "            \"categories\": {\n",
    "                \"model\": model_id\n",
    "            }\n",
    "        }\n",
    "}\n",
    "\n",
    "uri = url + '/v1/analyze'\n",
    "\n",
    "params = {\n",
    "    'version': '2021-02-15'\n",
    "}\n",
    "\n",
    "headers = {'Content-Type' : 'application/json'}\n",
    "\n",
    "######### Make a call to NLU #########\n",
    "\n",
    "response = requests.post(uri,\n",
    "                         params=params,\n",
    "                         json=analyze_request_data,\n",
    "                         headers=headers,\n",
    "                         auth=(username, password),\n",
    "                         verify=False,\n",
    "                        )\n",
    "\n",
    "if response.status_code != 200:\n",
    "    print('Failed to make request to model. Reason:')\n",
    "    print(response.text)\n",
    "\n",
    "else:\n",
    "    response_json = response.json()\n",
    "\n",
    "    print(\"Successfully analyzed request. Response from NLU:\\n\")\n",
    "    print(json.dumps(response_json, indent=4, sort_keys=True))"
   ]
  },
  {
   "cell_type": "code",
   "execution_count": null,
   "metadata": {},
   "outputs": [],
   "source": []
  }
 ],
 "metadata": {
  "kernelspec": {
   "display_name": "Python 3",
   "language": "python",
   "name": "python3"
  },
  "language_info": {
   "codemirror_mode": {
    "name": "ipython",
    "version": 3
   },
   "file_extension": ".py",
   "mimetype": "text/x-python",
   "name": "python",
   "nbconvert_exporter": "python",
   "pygments_lexer": "ipython3",
   "version": "3.6.5"
  }
 },
 "nbformat": 4,
 "nbformat_minor": 4
}
